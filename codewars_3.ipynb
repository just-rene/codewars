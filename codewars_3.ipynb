{
  "nbformat": 4,
  "nbformat_minor": 0,
  "metadata": {
    "colab": {
      "provenance": []
    },
    "kernelspec": {
      "name": "python3",
      "display_name": "Python 3"
    },
    "language_info": {
      "name": "python"
    }
  },
  "cells": [
    {
      "cell_type": "markdown",
      "source": [
        "**Sum of Intervals** \\\n",
        "https://www.codewars.com/kata/52b7ed099cdc285c300001cd/train/python"
      ],
      "metadata": {
        "id": "ngAvBFv2tWnv"
      }
    },
    {
      "cell_type": "code",
      "source": [
        "def sum_of_intervals(intervals):\n",
        "    full_set = set()\n",
        "    for s in intervals:\n",
        "        sub_set = set(range(s[0],s[1]))\n",
        "        full_set = set.union(full_set,sub_set)\n",
        "    return len(full_set)"
      ],
      "metadata": {
        "id": "x-SCe29vs5tn"
      },
      "execution_count": null,
      "outputs": []
    },
    {
      "cell_type": "code",
      "source": [
        "sum_of_intervals([[1,4],[7, 10],  [3, 5]])"
      ],
      "metadata": {
        "colab": {
          "base_uri": "https://localhost:8080/"
        },
        "id": "pNQcjvM439YM",
        "outputId": "06033cb3-93fd-4c67-8bbe-9fc550cf9076"
      },
      "execution_count": null,
      "outputs": [
        {
          "output_type": "execute_result",
          "data": {
            "text/plain": [
              "7"
            ]
          },
          "metadata": {},
          "execution_count": 57
        }
      ]
    },
    {
      "cell_type": "code",
      "source": [
        "sum_of_intervals([[1,2],[6, 10], [11, 15]]) # => 9\n",
        "sum_of_intervals( [[1,4],[7, 10],  [3, 5]] ) # => 7\n",
        "sum_of_intervals( [[1,5],[10, 20],[1, 6],[16, 19],[5, 11]] )  # => 19\n"
      ],
      "metadata": {
        "colab": {
          "base_uri": "https://localhost:8080/",
          "height": 35
        },
        "id": "2uWROXY3uLDG",
        "outputId": "aca527a0-cd52-4242-ef02-da07cd4783a0"
      },
      "execution_count": null,
      "outputs": [
        {
          "output_type": "execute_result",
          "data": {
            "application/vnd.google.colaboratory.intrinsic+json": {
              "type": "string"
            },
            "text/plain": [
              "''"
            ]
          },
          "metadata": {},
          "execution_count": 16
        }
      ]
    },
    {
      "cell_type": "markdown",
      "source": [
        "Next bigger number with the same digits (4 ryu) \\\n",
        "https://www.codewars.com/kata/55983863da40caa2c900004e/train/python"
      ],
      "metadata": {
        "id": "HLEIzukNRtf5"
      }
    },
    {
      "cell_type": "code",
      "source": [
        "#is descending? -> can not be increased\n",
        "def is_descending(str):\n",
        "    for i in range(0,len(str)-1,1):\n",
        "        if str[i] >= str[i+1]:\n",
        "            continue\n",
        "        else:\n",
        "            return False\n",
        "\n",
        "    return True\n",
        "\n",
        "\n",
        "def get_switch_position(s):\n",
        "    pos1 = -1\n",
        "    pos2 = -1\n",
        "    # find pos where ascending stops\n",
        "    len_s = len(s)-1\n",
        "    for i in range(0,len_s, 1):\n",
        "        if s[len_s-i-1] >= s[len_s-i]:\n",
        "            continue\n",
        "        else:\n",
        "            pos1 = len_s-i-1\n",
        "            break\n",
        "\n",
        "    #find next bigger number right from pos1\n",
        "    bigger_numbers = dict()\n",
        "    for i in range(pos1,len(s),1):\n",
        "        if s[i] >  s[pos1]:\n",
        "            bigger_numbers[s[i]] = i\n",
        "\n",
        "    pos2  = bigger_numbers[min(bigger_numbers)]\n",
        "    return pos1,pos2\n",
        "\n",
        "#switch positions\n",
        "def switch_positions(s: str, pos1: int, pos2: int) -> str:\n",
        "    s = list(s)\n",
        "    s[pos1], s[pos2] = s[pos2], s[pos1]\n",
        "    return \"\".join(s)\n",
        "\n",
        "#sort lower digits ascending\n",
        "def quicksort(arr):\n",
        "    if len(arr) < 2:\n",
        "        return arr\n",
        "    else:\n",
        "        pivot = arr[0]\n",
        "        less = [i for i in arr[1:] if i <= pivot]\n",
        "        more = [i for i in arr[1:] if i > pivot]\n",
        "        return quicksort(less) + [pivot] + quicksort(more)\n",
        "\n",
        "#___main___\n",
        "def next_bigger(n):\n",
        "    num =  n\n",
        "    num_str = str(num)\n",
        "    num_arr = list(str(num))\n",
        "    result = list()\n",
        "    len_num_arr = len(num_arr)\n",
        "\n",
        "    if is_descending(num_str) == True:\n",
        "        return -1\n",
        "\n",
        "    position, position2 = get_switch_position(num_str)\n",
        "\n",
        "    num_str_switched = switch_positions(num_str,position,position2)\n",
        "\n",
        "    heading = num_str_switched[:(position+1)]\n",
        "    to_sort = num_str_switched[(position+1):]\n",
        "\n",
        "    sorted_end = \"\".join(quicksort(to_sort))\n",
        "    return int(heading + sorted_end)\n"
      ],
      "metadata": {
        "id": "e7nz0DHERxuo"
      },
      "execution_count": null,
      "outputs": []
    },
    {
      "cell_type": "code",
      "source": [
        "print(next_bigger(12))  # returns 21\n",
        "print(next_bigger(513))  # returns 531\n",
        "print(next_bigger(2017)) # returns 2071\n",
        "print(next_bigger(4321)) # returns -1\n",
        "print(next_bigger(457760)) # returns 460577"
      ],
      "metadata": {
        "id": "veV7gqzzR6hw",
        "colab": {
          "base_uri": "https://localhost:8080/"
        },
        "outputId": "dfae60b0-4e6a-4caa-e643-e3a80e2d6f13"
      },
      "execution_count": null,
      "outputs": [
        {
          "output_type": "stream",
          "name": "stdout",
          "text": [
            "21\n",
            "531\n",
            "2071\n",
            "-1\n",
            "460577\n"
          ]
        }
      ]
    },
    {
      "cell_type": "code",
      "source": [
        "\"1234\"[0]"
      ],
      "metadata": {
        "colab": {
          "base_uri": "https://localhost:8080/",
          "height": 35
        },
        "id": "sKc1586uIbku",
        "outputId": "128c1582-b877-453e-d7d4-a9302d8c494d"
      },
      "execution_count": null,
      "outputs": [
        {
          "output_type": "execute_result",
          "data": {
            "application/vnd.google.colaboratory.intrinsic+json": {
              "type": "string"
            },
            "text/plain": [
              "'1'"
            ]
          },
          "metadata": {},
          "execution_count": 69
        }
      ]
    }
  ]
}