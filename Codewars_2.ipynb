{
  "nbformat": 4,
  "nbformat_minor": 0,
  "metadata": {
    "colab": {
      "provenance": []
    },
    "kernelspec": {
      "name": "python3",
      "display_name": "Python 3"
    },
    "language_info": {
      "name": "python"
    }
  },
  "cells": [
    {
      "cell_type": "markdown",
      "source": [
        "The rgb function is incomplete. Complete it so that passing in RGB decimal values will result in a hexadecimal representation being returned. Valid decimal values for RGB are 0 - 255. Any values that fall out of that range must be rounded to the closest valid value.\n",
        "\n",
        "Note: Your answer should always be 6 characters long, the shorthand with 3 will not work here.\n",
        "\n",
        "The following are examples of expected output values: \\\n",
        "<code>\n",
        "rgb(255, 255, 255) # returns FFFFFF \\\n",
        "rgb(255, 255, 300) # returns FFFFFF \\\n",
        "rgb(0,0,0) # returns 000000 \\\n",
        "rgb(148, 0, 211) # returns 9400D3\n",
        "</code>"
      ],
      "metadata": {
        "id": "or-3ZzGiVo8T"
      }
    },
    {
      "cell_type": "code",
      "source": [
        "def rgb(r, g, b):\n",
        "  result  = \"\"\n",
        "  numbers = [r,g,b]\n",
        "  for num in numbers:\n",
        "    if num > 255: num = 255\n",
        "    if num < 0  : num = 0\n",
        "    h = hex(num).split(\"0x\")[1]\n",
        "    if len(h) == 1:\n",
        "      h = \"0\" + h\n",
        "    result = result + ( h)\n",
        "  return result"
      ],
      "metadata": {
        "id": "xiP-KtK2WVHb"
      },
      "execution_count": null,
      "outputs": []
    },
    {
      "cell_type": "code",
      "source": [
        "rgb( 252,2,-1)"
      ],
      "metadata": {
        "colab": {
          "base_uri": "https://localhost:8080/",
          "height": 35
        },
        "id": "KrLMJf3Oaf8x",
        "outputId": "4b21f5bb-dac8-49c9-9a95-3caa1505d4c0"
      },
      "execution_count": null,
      "outputs": [
        {
          "output_type": "execute_result",
          "data": {
            "application/vnd.google.colaboratory.intrinsic+json": {
              "type": "string"
            },
            "text/plain": [
              "'fc0200'"
            ]
          },
          "metadata": {},
          "execution_count": 34
        }
      ]
    },
    {
      "cell_type": "code",
      "source": [
        "result  = \"\"\n",
        "numbers = [123,233,3]\n",
        "for num in numbers:\n",
        "  if num > 255: num = 255\n",
        "  if num < 0  : num = 0\n",
        "  print(hex(num))\n",
        "  h = hex(num).split(\"0x\")[1]\n",
        "  if len(h) == 1:\n",
        "    h = \"0\" + h\n",
        "  print(h)\n",
        "  result = result + ( h)\n",
        "\n",
        "print(result)\n"
      ],
      "metadata": {
        "colab": {
          "base_uri": "https://localhost:8080/"
        },
        "id": "tKhZueL8WyaS",
        "outputId": "6a910ef2-53aa-4ef4-f09e-81778fb38c7a"
      },
      "execution_count": null,
      "outputs": [
        {
          "output_type": "stream",
          "name": "stdout",
          "text": [
            "0x7b\n",
            "7b\n",
            "0xe9\n",
            "e9\n",
            "0x3\n",
            "03\n",
            "7be903\n"
          ]
        }
      ]
    },
    {
      "cell_type": "markdown",
      "source": [
        "Pete likes to bake some cakes. He has some recipes and ingredients. Unfortunately he is not good in maths. Can you help him to find out, how many cakes he could bake considering his recipes?\n",
        "\n",
        "Write a function cakes(), which takes the recipe (object) and the available ingredients (also an object) and returns the maximum number of cakes Pete can bake (integer). For simplicity there are no units for the amounts (e.g. 1 lb of flour or 200 g of sugar are simply 1 or 200). Ingredients that are not present in the objects, can be considered as 0.\n",
        "\n",
        "Examples:\n",
        "\n",
        "<code>\n",
        "\n",
        "must return 2  \n",
        "\n",
        "cakes({flour: 500, sugar: 200, eggs: 1}, {flour: 1200, sugar: 1200, eggs: 5, milk: 200}) \\\n",
        "\n",
        "must return 0  \n",
        "cakes({apples: 3, flour: 300, sugar: 150, milk: 100, oil: 100}, {sugar: 500, flour: 2000, milk: 2000}) \\\n",
        "\n",
        "</code>\n"
      ],
      "metadata": {
        "id": "a331SS4ecB5I"
      }
    },
    {
      "cell_type": "code",
      "source": [
        "recipe = {\"apples\": 3, \"flour\": 300, \"sugar\": 150, \"milk\": 100, \"oil\": 100}\n",
        "available = {\"sugar\": 500, \"flour\": 2000, \"milk\": 2000}\n",
        "\n",
        "def cakes(recipe, available):\n",
        "  m = []\n",
        "  for ingredient in recipe.keys():\n",
        "    if available.get(ingredient) == None:\n",
        "      return 0\n",
        "    m.append(available.get(ingredient) / recipe.get(ingredient) )\n",
        "  return int(min(m))"
      ],
      "metadata": {
        "id": "NOfXpHV9dgx5"
      },
      "execution_count": null,
      "outputs": []
    },
    {
      "cell_type": "code",
      "source": [
        "cakes(recipe,available)"
      ],
      "metadata": {
        "colab": {
          "base_uri": "https://localhost:8080/"
        },
        "id": "GEfNdSKShA1I",
        "outputId": "e0c4960c-7910-4661-91b5-c35271f1a320"
      },
      "execution_count": null,
      "outputs": [
        {
          "output_type": "execute_result",
          "data": {
            "text/plain": [
              "0"
            ]
          },
          "metadata": {},
          "execution_count": 76
        }
      ]
    },
    {
      "cell_type": "markdown",
      "source": [
        "Write an algorithm that takes an array and moves all of the zeros to the end, preserving the order of the other elements. \\\n",
        "\n",
        "<code>\n",
        "move_zeros([1, 0, 1, 2, 0, 1, 3])\n",
        "returns [1, 1, 2, 1, 3, 0, 0]\n",
        "</code>\n"
      ],
      "metadata": {
        "id": "ZPuPHPI3ivqY"
      }
    },
    {
      "cell_type": "code",
      "source": [
        "def move_zeros(array):\n",
        "  zeros     = list(filter(lambda x: (x==0),array))\n",
        "  non_zeros = list(filter(lambda x: (x!=0),array))\n",
        "  return(non_zeros + zeros)\n",
        "\n",
        "move_zeros([0, 1, 0, 1, 2, 0, 1, 3, 0])"
      ],
      "metadata": {
        "colab": {
          "base_uri": "https://localhost:8080/"
        },
        "id": "5fObw1kccBJx",
        "outputId": "6b51b3b8-950a-4261-c0cb-c0d5a29abd44"
      },
      "execution_count": null,
      "outputs": [
        {
          "output_type": "execute_result",
          "data": {
            "text/plain": [
              "[1, 1, 2, 1, 3, 0, 0, 0, 0]"
            ]
          },
          "metadata": {},
          "execution_count": 100
        }
      ]
    },
    {
      "cell_type": "code",
      "source": [
        "n = [1, 0, 1, 2, 0, 1, 3]\n",
        "zeros     = list(filter(lambda x: (x==0),n))\n",
        "non_zeros = list(filter(lambda x: (x!=0),n))\n",
        "\n",
        "print(non_zeros + zeros)"
      ],
      "metadata": {
        "id": "f0rcDdW-i9md"
      },
      "execution_count": null,
      "outputs": []
    }
  ]
}